{
 "cells": [
  {
   "cell_type": "code",
   "execution_count": 5,
   "id": "inclusive-coffee",
   "metadata": {},
   "outputs": [],
   "source": [
    "from boggle.io import download_txt_file, get_word_list, process_word_list, calculate_letter_probs_from_word_list\n",
    "from boggle.path import Path\n",
    "from boggle.boggle import BoggleGrid, Boggle\n",
    "import numpy as np\n",
    "import random\n",
    "import time\n",
    "import re"
   ]
  },
  {
   "cell_type": "code",
   "execution_count": 6,
   "id": "dated-beijing",
   "metadata": {},
   "outputs": [],
   "source": [
    "MIN_WORD_LENGTH = 3\n",
    "WORDLIST = '../data/basiswoorden-gekeurd.txt'"
   ]
  },
  {
   "cell_type": "markdown",
   "id": "organized-discretion",
   "metadata": {},
   "source": [
    "## Data"
   ]
  },
  {
   "cell_type": "code",
   "execution_count": 7,
   "id": "hearing-february",
   "metadata": {},
   "outputs": [],
   "source": [
    "download_txt_file(txt_url='https://github.com/OpenTaal/opentaal-wordlist/raw/master/elements/basiswoorden-gekeurd.txt', \n",
    "                  target_path='../data/basiswoorden-gekeurd.txt')\n",
    "word_list = np.array(get_word_list(txt_path=WORDLIST))\n",
    "word_list = process_word_list(word_list, min_word_length=MIN_WORD_LENGTH)\n",
    "letter_probs = calculate_letter_probs_from_word_list(word_list)"
   ]
  },
  {
   "cell_type": "markdown",
   "id": "imposed-timothy",
   "metadata": {},
   "source": [
    "## Utils"
   ]
  },
  {
   "cell_type": "code",
   "execution_count": 10,
   "id": "specific-helicopter",
   "metadata": {
    "scrolled": true
   },
   "outputs": [],
   "source": [
    "boggle_grid = BoggleGrid(letter_probs = letter_probs, gridsize = (4,4))"
   ]
  },
  {
   "cell_type": "markdown",
   "id": "passive-folder",
   "metadata": {},
   "source": [
    "## Code"
   ]
  },
  {
   "cell_type": "code",
   "execution_count": 11,
   "id": "mobile-restriction",
   "metadata": {},
   "outputs": [
    {
     "name": "stdout",
     "output_type": "stream",
     "text": [
      "--- BOGGLE ---\n",
      "\n",
      "[['e' 't' 'b' 'p']\n",
      " ['v' 'l' 'u' 'o']\n",
      " ['r' 'i' 'n' 's']\n",
      " ['k' 'c' 'a' 'g']]\n",
      "\n",
      "\n",
      "--- ALL WORDS ---\n",
      "\n",
      "['tui', 'tul', 'tub', 'tel', 'bos', 'bon', 'bop', 'bus', 'bun', 'bui', 'bul', 'pos', 'pon', 'pus', 'pui', 'pul', 'put', 'pub', 'vin', 'via', 'vet', 'vel', 'lus', 'lui', 'lut', 'lno', 'lic', 'lik', 'lev', 'lbo', 'uso', 'uni', 'uil', 'ons', 'out', 'ria', 'ril', 'ino', 'nag', 'nil', 'nul', 'nut', 'nou', 'nop', 'sul', 'sub', 'sup', 'son', 'sou', 'sop', 'kca', 'kin', 'kir', 'kil', 'cai', 'cas', 'air', 'aso', 'gas', 'etui', 'tuin', 'tuil', 'tule', 'bons', 'boni', 'bout', 'buso', 'buik', 'buil', 'bult', 'blut', 'blik', 'pons', 'puin', 'puik', 'vlet', 'ving', 'vilt', 'luns', 'luik', 'lino', 'lias', 'lick', 'live', 'onus', 'obus', 'opus', 'rins', 'ring', 'nick', 'snik', 'snul', 'snob', 'song', 'soul', 'king', 'kina', 'kilt', 'anus', 'gans', 'bosui', 'bonus', 'poule', 'rivet', 'snack', 'kring', 'kilte', 'civet', 'tunica', 'teling', 'bosuil', 'bonsai', 'poulet', 'lunair', 'insult', 'canule', 'vetbuik']\n"
     ]
    }
   ],
   "source": [
    "boggle = Boggle(boggle_grid,word_list)\n",
    "all_words = boggle.solve()\n",
    "\n",
    "print('--- BOGGLE ---\\n')\n",
    "print(boggle_grid)\n",
    "\n",
    "print('\\n\\n--- ALL WORDS ---\\n')\n",
    "print([word['word'] for word in all_words])"
   ]
  },
  {
   "cell_type": "code",
   "execution_count": null,
   "id": "variable-bailey",
   "metadata": {},
   "outputs": [],
   "source": []
  }
 ],
 "metadata": {
  "kernelspec": {
   "display_name": "boggle",
   "language": "python",
   "name": "boggle"
  },
  "language_info": {
   "codemirror_mode": {
    "name": "ipython",
    "version": 3
   },
   "file_extension": ".py",
   "mimetype": "text/x-python",
   "name": "python",
   "nbconvert_exporter": "python",
   "pygments_lexer": "ipython3",
   "version": "3.8.2"
  }
 },
 "nbformat": 4,
 "nbformat_minor": 5
}
