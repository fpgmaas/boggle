{
 "cells": [
  {
   "cell_type": "code",
   "execution_count": null,
   "id": "inclusive-coffee",
   "metadata": {},
   "outputs": [],
   "source": [
    "from boggle.io import download_txt_file, get_word_list, process_word_list, calculate_letter_probs_from_word_list\n",
    "from boggle.path import Path\n",
    "from boggle.boggle import BoggleGrid, Boggle\n",
    "import numpy as np\n",
    "import random\n",
    "import time\n",
    "import re"
   ]
  },
  {
   "cell_type": "code",
   "execution_count": null,
   "id": "dated-beijing",
   "metadata": {},
   "outputs": [],
   "source": [
    "MIN_WORD_LENGTH = 3\n",
    "WORDLIST = '../data/basiswoorden-gekeurd.txt'"
   ]
  },
  {
   "cell_type": "markdown",
   "id": "organized-discretion",
   "metadata": {},
   "source": [
    "## Data"
   ]
  },
  {
   "cell_type": "code",
   "execution_count": null,
   "id": "hearing-february",
   "metadata": {},
   "outputs": [],
   "source": [
    "download_txt_file(txt_url='https://github.com/OpenTaal/opentaal-wordlist/raw/master/elements/basiswoorden-gekeurd.txt', \n",
    "                  target_path='../data/basiswoorden-gekeurd.txt')\n",
    "word_list = np.array(get_word_list(txt_path=WORDLIST))\n",
    "word_list = process_word_list(word_list, min_word_length=MIN_WORD_LENGTH)\n",
    "letter_probs = calculate_letter_probs_from_word_list(word_list)"
   ]
  },
  {
   "cell_type": "markdown",
   "id": "passive-folder",
   "metadata": {},
   "source": [
    "## Code"
   ]
  },
  {
   "cell_type": "code",
   "execution_count": null,
   "id": "cd62f6f8",
   "metadata": {},
   "outputs": [],
   "source": [
    "# Either create a random grid or provide your own.\n",
    "boggle_grid = BoggleGrid(letter_probs = letter_probs, gridsize = (4,4))\n",
    "boggle_string = 'abcdefghijklmnop'\n",
    "boggle_grid = BoggleGrid(np.resize([x for x in boggle_string],(4,4)))"
   ]
  },
  {
   "cell_type": "code",
   "execution_count": null,
   "id": "057451b5",
   "metadata": {},
   "outputs": [],
   "source": [
    "boggle = Boggle(boggle_grid,word_list)\n",
    "all_words = boggle.solve()\n",
    "\n",
    "print('--- BOGGLE ---\\n')\n",
    "print(boggle_grid)\n",
    "\n",
    "print('\\n\\n--- ALL WORDS ---\\n')\n",
    "print([word['word'] for word in all_words])"
   ]
  },
  {
   "cell_type": "code",
   "execution_count": null,
   "id": "variable-bailey",
   "metadata": {},
   "outputs": [],
   "source": []
  }
 ],
 "metadata": {
  "kernelspec": {
   "display_name": "boggle",
   "language": "python",
   "name": "boggle"
  },
  "language_info": {
   "codemirror_mode": {
    "name": "ipython",
    "version": 3
   },
   "file_extension": ".py",
   "mimetype": "text/x-python",
   "name": "python",
   "nbconvert_exporter": "python",
   "pygments_lexer": "ipython3",
   "version": "3.8.2"
  }
 },
 "nbformat": 4,
 "nbformat_minor": 5
}
