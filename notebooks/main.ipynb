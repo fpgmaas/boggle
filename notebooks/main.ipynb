{
 "cells": [
  {
   "cell_type": "code",
   "execution_count": 1,
   "id": "inclusive-coffee",
   "metadata": {},
   "outputs": [],
   "source": [
    "from boggle.io import download_txt_file, get_word_list, process_word_list, calculate_letter_probs_from_word_list\n",
    "from boggle.path import Path\n",
    "from boggle.bisect import HasPrefix, AdaptPrefix, Prefix\n",
    "from boggle.boggle import BoggleGrid\n",
    "import numpy as np\n",
    "import random\n",
    "import time\n",
    "import re\n",
    "import bisect"
   ]
  },
  {
   "cell_type": "code",
   "execution_count": 2,
   "id": "historic-spending",
   "metadata": {},
   "outputs": [],
   "source": [
    "MIN_WORD_LENGTH = 3"
   ]
  },
  {
   "cell_type": "markdown",
   "id": "otherwise-filter",
   "metadata": {},
   "source": [
    "## Data"
   ]
  },
  {
   "cell_type": "code",
   "execution_count": 3,
   "id": "hearing-february",
   "metadata": {},
   "outputs": [],
   "source": [
    "download_txt_file(txt_url='https://github.com/OpenTaal/opentaal-wordlist/raw/master/wordlist.txt', \n",
    "                  target_path='../data/wordlist.txt')\n",
    "word_list = np.array(get_word_list(txt_path='../data/wordlist.txt'))\n",
    "word_list = process_word_list(word_list, min_word_length=MIN_WORD_LENGTH)"
   ]
  },
  {
   "cell_type": "markdown",
   "id": "gothic-stock",
   "metadata": {},
   "source": [
    "## Utils"
   ]
  },
  {
   "cell_type": "code",
   "execution_count": 4,
   "id": "reported-bahrain",
   "metadata": {
    "scrolled": true
   },
   "outputs": [],
   "source": [
    "letter_probs = calculate_letter_probs_from_word_list(word_list)"
   ]
  },
  {
   "cell_type": "code",
   "execution_count": 8,
   "id": "computational-belly",
   "metadata": {},
   "outputs": [],
   "source": [
    "boggle_grid = BoggleGrid(letter_probs = letter_probs, grid_size = (4,4)).get_grid()"
   ]
  },
  {
   "cell_type": "code",
   "execution_count": 6,
   "id": "sapphire-black",
   "metadata": {},
   "outputs": [],
   "source": [
    "class Boggle:\n",
    "    \n",
    "    def __init__(self, boggle_grid: np.array, letter_freqs: dict):\n",
    "        \"\"\"\n",
    "        if boggle_grid = None, create random\n",
    "        \"\"\"\n",
    "        if boggle_grid:\n",
    "            self.boggle_grid = boggle_grid\n",
    "        else:\n",
    "            self.boggle_grid = self.create_random_grid(letter_freqs,grid_size)\n",
    "            \n",
    "                \n",
    "    def __str__(self):\n",
    "        return str(f'Path in {self.gridsize} grid: {self.nodes.tolist()}')\n",
    "    \n",
    "    def __repr__(self):\n",
    "        return str(f'Path in {self.gridsize} grid: {self.nodes.tolist()}')\n",
    "            \n",
    "\n",
    "            "
   ]
  },
  {
   "cell_type": "markdown",
   "id": "overall-legend",
   "metadata": {},
   "source": [
    "## Code"
   ]
  },
  {
   "cell_type": "code",
   "execution_count": 33,
   "id": "polar-boutique",
   "metadata": {},
   "outputs": [],
   "source": [
    "boggle_grid = BoggleGrid(letter_probs = letter_probs, grid_size = (4,4)).get_grid()"
   ]
  },
  {
   "cell_type": "code",
   "execution_count": 34,
   "id": "perfect-visiting",
   "metadata": {},
   "outputs": [],
   "source": [
    "word_list_search = AdaptPrefix(word_list)"
   ]
  },
  {
   "cell_type": "code",
   "execution_count": 35,
   "id": "balanced-titanium",
   "metadata": {},
   "outputs": [],
   "source": [
    "paths = []\n",
    "starting_coords = [np.array([[x,y]]) for x in range(boggle_grid.shape[0]) for y in range(boggle_grid.shape[0])]\n",
    "for xy in starting_coords: \n",
    "    paths.append(Path(nodes = xy,gridsize=(4,4)))"
   ]
  },
  {
   "cell_type": "code",
   "execution_count": null,
   "id": "continued-improvement",
   "metadata": {},
   "outputs": [],
   "source": [
    "all_words = []\n",
    "all_words_found = False\n",
    "while not all_words_found:\n",
    "    paths = [y for x in [path.get_new_paths() for path in paths] for y in x]\n",
    "    idx_to_keep = []\n",
    "    for idx, path in enumerate(paths):\n",
    "        word = path.grid_to_text(boggle_grid)\n",
    "        left_index = bisect.bisect_left(word_list_search, Prefix(word))\n",
    "        right_index = bisect.bisect_right(word_list_search, Prefix(word))\n",
    "        words_with_prefix = word_list[left_index:right_index]\n",
    "        # check if a word.\n",
    "        if len(words_with_prefix)>0:\n",
    "            if word in words_with_prefix:\n",
    "                nodes = path.nodes\n",
    "                all_words.append({'word': word, 'path': nodes})\n",
    "                if len(words_with_prefix)==1:\n",
    "                    pass\n",
    "                else:\n",
    "                    idx_to_keep.append(idx)\n",
    "            else:\n",
    "                idx_to_keep.append(idx)\n",
    "    \n",
    "    paths = [paths[i] for i in idx_to_keep]\n",
    "    \n",
    "    if len(idx_to_keep) == 0:\n",
    "        all_words_found=True"
   ]
  },
  {
   "cell_type": "code",
   "execution_count": null,
   "id": "acoustic-union",
   "metadata": {},
   "outputs": [],
   "source": [
    "print('--- BOGGLE ---\\n')\n",
    "print(boggle_grid)\n",
    "\n",
    "print('\\n\\n--- ALL WORDS ---\\n')\n",
    "print([word['word'] for word in all_words])"
   ]
  },
  {
   "cell_type": "code",
   "execution_count": null,
   "id": "continuous-basin",
   "metadata": {},
   "outputs": [],
   "source": []
  }
 ],
 "metadata": {
  "kernelspec": {
   "display_name": "boggle",
   "language": "python",
   "name": "boggle"
  },
  "language_info": {
   "codemirror_mode": {
    "name": "ipython",
    "version": 3
   },
   "file_extension": ".py",
   "mimetype": "text/x-python",
   "name": "python",
   "nbconvert_exporter": "python",
   "pygments_lexer": "ipython3",
   "version": "3.8.2"
  }
 },
 "nbformat": 4,
 "nbformat_minor": 5
}
