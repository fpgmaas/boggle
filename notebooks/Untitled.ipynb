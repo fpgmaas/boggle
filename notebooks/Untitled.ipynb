{
 "cells": [
  {
   "cell_type": "code",
   "execution_count": 3,
   "id": "separated-luxury",
   "metadata": {},
   "outputs": [
    {
     "data": {
      "text/plain": [
       "array([['A', 'B', 'C', 'D'],\n",
       "       ['E', 'F', 'G', 'H'],\n",
       "       ['I', 'J', 'K', 'L'],\n",
       "       ['M', 'N', 'O', 'P']], dtype='<U1')"
      ]
     },
     "execution_count": 3,
     "metadata": {},
     "output_type": "execute_result"
    }
   ],
   "source": []
  },
  {
   "cell_type": "code",
   "execution_count": 2,
   "id": "intimate-regulation",
   "metadata": {},
   "outputs": [],
   "source": [
    "from boggle.io import download_txt_file, get_word_list\n",
    "\n",
    "download_txt_file(txt_url='https://github.com/OpenTaal/opentaal-wordlist/raw/master/wordlist.txt', \n",
    "                  target_path='../data/wordlist.txt')\n",
    "word_list = get_word_list(txt_path='../data/wordlist.txt')"
   ]
  },
  {
   "cell_type": "code",
   "execution_count": 62,
   "id": "knowing-makeup",
   "metadata": {},
   "outputs": [],
   "source": [
    "import numpy as np\n",
    "boggle = np.array([['A','B','C','D'],['E','F','G','H'],['I','J','K','L'],['M','N','O','P']])"
   ]
  },
  {
   "cell_type": "code",
   "execution_count": 293,
   "id": "macro-sleeping",
   "metadata": {},
   "outputs": [],
   "source": [
    "class Path:\n",
    "    \n",
    "    def __init__(self, path: np.array, gridsize: tuple):\n",
    "        self.path = path\n",
    "        self.gridsize = gridsize\n",
    "        \n",
    "    def find_neighbours(self):\n",
    "        options = np.array([[0,1],[1,1],[1,0],[1,-1],[0,-1],[-1,-1],[-1,0],[-1,1]])\n",
    "        new_options = np.tile(self.path[-1],[8,1]) + options\n",
    "        within_x_bounds = np.logical_and(new_options[:,0]>=0, new_options[:,0]<self.gridsize[0])\n",
    "        within_y_bounds = np.logical_and(new_options[:,1]>=0, new_options[:,1]<self.gridsize[1])\n",
    "        already_visited = np.apply_along_axis(lambda x: self.is_row_in_array(x,self.path),arr=new_options,axis=1)\n",
    "        return new_options[np.logical_and(np.logical_and(within_x_bounds,within_y_bounds),~already_visited)]\n",
    "    \n",
    "    def get_new_paths(self):\n",
    "        return [Path(path=np.vstack((self.path, neighbour)), gridsize=self.gridsize) for neighbour in self.find_neighbours()]\n",
    "    \n",
    "    @staticmethod \n",
    "    def is_row_in_array(row , arr):\n",
    "        return (arr == row).all(axis=1).any()\n",
    "    \n",
    "    def __str__(self):\n",
    "        return str(f'Path in {self.gridsize} grid: {self.path.tolist()}')\n",
    "    \n",
    "    def __repr__(self):\n",
    "        return str(f'Path in {self.gridsize} grid: {self.path.tolist()}')"
   ]
  },
  {
   "cell_type": "code",
   "execution_count": 294,
   "id": "blond-italy",
   "metadata": {},
   "outputs": [],
   "source": [
    "path = Path(path = np.array([[0,0]]),gridsize=(4,4))"
   ]
  },
  {
   "cell_type": "code",
   "execution_count": 295,
   "id": "potential-contents",
   "metadata": {},
   "outputs": [],
   "source": [
    "a = path.get_new_paths()"
   ]
  }
 ],
 "metadata": {
  "kernelspec": {
   "display_name": "boggle",
   "language": "python",
   "name": "boggle"
  },
  "language_info": {
   "codemirror_mode": {
    "name": "ipython",
    "version": 3
   },
   "file_extension": ".py",
   "mimetype": "text/x-python",
   "name": "python",
   "nbconvert_exporter": "python",
   "pygments_lexer": "ipython3",
   "version": "3.8.2"
  }
 },
 "nbformat": 4,
 "nbformat_minor": 5
}
