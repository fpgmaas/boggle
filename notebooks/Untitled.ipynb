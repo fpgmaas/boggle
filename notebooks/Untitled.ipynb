{
 "cells": [
  {
   "cell_type": "code",
   "execution_count": 3,
   "id": "inclusive-coffee",
   "metadata": {},
   "outputs": [
    {
     "data": {
      "text/plain": [
       "array([['A', 'B', 'C', 'D'],\n",
       "       ['E', 'F', 'G', 'H'],\n",
       "       ['I', 'J', 'K', 'L'],\n",
       "       ['M', 'N', 'O', 'P']], dtype='<U1')"
      ]
     },
     "execution_count": 3,
     "metadata": {},
     "output_type": "execute_result"
    }
   ],
   "source": []
  },
  {
   "cell_type": "code",
   "execution_count": 2,
   "id": "hearing-february",
   "metadata": {},
   "outputs": [],
   "source": [
    "from boggle.io import download_txt_file, get_word_list\n",
    "import numpy as np\n",
    "\n",
    "\n",
    "download_txt_file(txt_url='https://github.com/OpenTaal/opentaal-wordlist/raw/master/wordlist.txt', \n",
    "                  target_path='../data/wordlist.txt')\n",
    "word_list = np.array(get_word_list(txt_path='../data/wordlist.txt'))"
   ]
  },
  {
   "cell_type": "code",
   "execution_count": 3,
   "id": "palestinian-forward",
   "metadata": {},
   "outputs": [],
   "source": [
    "boggle_grid = np.char.lower(np.array([['A','B','C','D'],['E','F','G','H'],['I','J','K','L'],['M','N','O','P']]))"
   ]
  },
  {
   "cell_type": "code",
   "execution_count": 4,
   "id": "sapphire-black",
   "metadata": {},
   "outputs": [],
   "source": [
    "class Path:\n",
    "    \n",
    "    def __init__(self, nodes: np.array, gridsize: tuple):\n",
    "        self.nodes = nodes\n",
    "        self.gridsize = gridsize\n",
    "        \n",
    "    def find_neighbours(self):\n",
    "        options = np.array([[0,1],[1,1],[1,0],[1,-1],[0,-1],[-1,-1],[-1,0],[-1,1]])\n",
    "        new_options = np.tile(self.nodes[-1],[8,1]) + options\n",
    "        within_x_bounds = np.logical_and(new_options[:,0]>=0, new_options[:,0]<self.gridsize[0])\n",
    "        within_y_bounds = np.logical_and(new_options[:,1]>=0, new_options[:,1]<self.gridsize[1])\n",
    "        already_visited = np.apply_along_axis(lambda x: self.is_row_in_array(x,self.nodes),arr=new_options,axis=1)\n",
    "        return new_options[np.logical_and(np.logical_and(within_x_bounds,within_y_bounds),~already_visited)]\n",
    "    \n",
    "    def get_new_paths(self):\n",
    "        return [Path(nodes=np.vstack((self.nodes, neighbour)), gridsize=self.gridsize) for neighbour in self.find_neighbours()]\n",
    "    \n",
    "    def grid_to_text(self, boggle_grid: np.array):\n",
    "        return ''.join(boggle_grid[self.nodes[:,0],self.nodes[:,1]].tolist())\n",
    "    \n",
    "    @staticmethod \n",
    "    def is_row_in_array(row , arr):\n",
    "        return (arr == row).all(axis=1).any()\n",
    "    \n",
    "    def __str__(self):\n",
    "        return str(f'Path in {self.gridsize} grid: {self.nodes.tolist()}')\n",
    "    \n",
    "    def __repr__(self):\n",
    "        return str(f'Path in {self.gridsize} grid: {self.nodes.tolist()}')"
   ]
  },
  {
   "cell_type": "code",
   "execution_count": 5,
   "id": "balanced-titanium",
   "metadata": {},
   "outputs": [],
   "source": [
    "paths = []\n",
    "paths.append(Path(nodes = np.array([[0,0]]),gridsize=(4,4)))"
   ]
  },
  {
   "cell_type": "code",
   "execution_count": 6,
   "id": "continued-improvement",
   "metadata": {},
   "outputs": [
    {
     "name": "stdout",
     "output_type": "stream",
     "text": [
      "ab\n",
      "af\n"
     ]
    }
   ],
   "source": [
    "all_words = []\n",
    "all_words_found = False\n",
    "#while not all_words_found:\n",
    "paths = [y for x in [path.get_new_paths() for path in paths] for y in x]\n",
    "idx_to_keep = []\n",
    "for idx, path in enumerate(paths):\n",
    "    # check if a word.\n",
    "    find_word = np.char.equal(word_list,path.grid_to_text(boggle_grid))\n",
    "    if np.any(find_word):\n",
    "        word = word_list[find_word][0]\n",
    "        nodes = path.nodes\n",
    "        all_words.append({'word': word, 'path': nodes})\n",
    "        print(word)\n",
    "    # check if there are still words beginning with this string\n",
    "    starts_with = np.char.startswith(word_list,path.grid_to_text(boggle_grid))\n",
    "    if np.sum(starts_with)>1:\n",
    "        idx_to_keep.append(idx)\n",
    "if len(idx_to_keep) == 0:\n",
    "    all_words_found=True\n",
    "            \n",
    "            \n",
    "        "
   ]
  },
  {
   "cell_type": "code",
   "execution_count": 7,
   "id": "cooked-slovenia",
   "metadata": {},
   "outputs": [
    {
     "data": {
      "text/plain": [
       "[Path in (4, 4) grid: [[0, 0], [0, 1]],\n",
       " Path in (4, 4) grid: [[0, 0], [1, 1]],\n",
       " Path in (4, 4) grid: [[0, 0], [1, 0]]]"
      ]
     },
     "execution_count": 7,
     "metadata": {},
     "output_type": "execute_result"
    }
   ],
   "source": [
    "paths"
   ]
  },
  {
   "cell_type": "code",
   "execution_count": 388,
   "id": "official-shift",
   "metadata": {},
   "outputs": [
    {
     "data": {
      "text/plain": [
       "[Path in (4, 4) grid: [[0, 0], [0, 1], [0, 2]],\n",
       " Path in (4, 4) grid: [[0, 0], [0, 1], [1, 2]],\n",
       " Path in (4, 4) grid: [[0, 0], [0, 1], [1, 1]],\n",
       " Path in (4, 4) grid: [[0, 0], [0, 1], [1, 0]],\n",
       " Path in (4, 4) grid: [[0, 0], [1, 1], [1, 2]],\n",
       " Path in (4, 4) grid: [[0, 0], [1, 1], [2, 2]],\n",
       " Path in (4, 4) grid: [[0, 0], [1, 1], [2, 1]],\n",
       " Path in (4, 4) grid: [[0, 0], [1, 1], [2, 0]],\n",
       " Path in (4, 4) grid: [[0, 0], [1, 1], [1, 0]],\n",
       " Path in (4, 4) grid: [[0, 0], [1, 1], [0, 1]],\n",
       " Path in (4, 4) grid: [[0, 0], [1, 1], [0, 2]],\n",
       " Path in (4, 4) grid: [[0, 0], [1, 0], [1, 1]],\n",
       " Path in (4, 4) grid: [[0, 0], [1, 0], [2, 1]],\n",
       " Path in (4, 4) grid: [[0, 0], [1, 0], [2, 0]],\n",
       " Path in (4, 4) grid: [[0, 0], [1, 0], [0, 1]]]"
      ]
     },
     "execution_count": 388,
     "metadata": {},
     "output_type": "execute_result"
    }
   ],
   "source": [
    "#[y for x in list_of_lists for y in x]"
   ]
  },
  {
   "cell_type": "code",
   "execution_count": 379,
   "id": "monetary-section",
   "metadata": {},
   "outputs": [
    {
     "data": {
      "text/plain": [
       "[[Path in (4, 4) grid: [[0, 0], [0, 1]],\n",
       "  Path in (4, 4) grid: [[0, 0], [1, 1]],\n",
       "  Path in (4, 4) grid: [[0, 0], [1, 0]]]]"
      ]
     },
     "execution_count": 379,
     "metadata": {},
     "output_type": "execute_result"
    }
   ],
   "source": [
    "[path.get_new_paths() for path in paths]"
   ]
  },
  {
   "cell_type": "code",
   "execution_count": 407,
   "id": "modern-register",
   "metadata": {},
   "outputs": [],
   "source": [
    "new_paths[0].grid_to_text(boggle_grid)\n",
    "starts_with = np.char.startswith(word_list,'au')"
   ]
  },
  {
   "cell_type": "code",
   "execution_count": 409,
   "id": "premier-lambda",
   "metadata": {},
   "outputs": [
    {
     "data": {
      "text/plain": [
       "1002"
      ]
     },
     "execution_count": 409,
     "metadata": {},
     "output_type": "execute_result"
    }
   ],
   "source": [
    "np.sum(find_word)"
   ]
  },
  {
   "cell_type": "code",
   "execution_count": null,
   "id": "blocked-carol",
   "metadata": {},
   "outputs": [],
   "source": [
    "https://stackoverflow.com/questions/7380629/perform-a-binary-search-for-a-string-prefix-in-python"
   ]
  },
  {
   "cell_type": "code",
   "execution_count": 8,
   "id": "polar-religious",
   "metadata": {},
   "outputs": [],
   "source": [
    "import bisect"
   ]
  },
  {
   "cell_type": "code",
   "execution_count": null,
   "id": "continuous-basin",
   "metadata": {},
   "outputs": [],
   "source": []
  }
 ],
 "metadata": {
  "kernelspec": {
   "display_name": "boggle",
   "language": "python",
   "name": "boggle"
  },
  "language_info": {
   "codemirror_mode": {
    "name": "ipython",
    "version": 3
   },
   "file_extension": ".py",
   "mimetype": "text/x-python",
   "name": "python",
   "nbconvert_exporter": "python",
   "pygments_lexer": "ipython3",
   "version": "3.8.2"
  }
 },
 "nbformat": 4,
 "nbformat_minor": 5
}
